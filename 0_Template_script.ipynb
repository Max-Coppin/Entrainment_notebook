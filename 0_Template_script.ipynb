{
 "cells": [
  {
   "cell_type": "markdown",
   "id": "a3ea09b0-ee5f-435c-9bf1-473a363a3520",
   "metadata": {},
   "source": [
    "# Title of the Script  "
   ]
  },
  {
   "cell_type": "markdown",
   "id": "0b80a36e-2b11-4c17-8127-bd6e6da778fa",
   "metadata": {},
   "source": [
    "Purpus of the script \n"
   ]
  },
  {
   "cell_type": "markdown",
   "id": "49724e69-efd0-470e-9f86-0424f08c23c8",
   "metadata": {},
   "source": [
    "### Outline of the script\n",
    "1. \n",
    "2. \n",
    "3. "
   ]
  },
  {
   "cell_type": "markdown",
   "id": "b9ffa56c-d4f7-4a41-aa80-4566048539d5",
   "metadata": {},
   "source": [
    "| Designation  | $T_{ini}$s | $T_{end}$s | $\\Delta T$ °C | $f$ | _Comment_ |_Temporal resolution PIV_ |\n",
    "|--------------|------------|------------|---------------|-----|-----------|-----------|\n",
    "| **EXP01**    | 0          | 120        | 0             | 0   | Fail in camera acquisition ||\n",
    "| **EXP02**    | 0          | 120        | 0             | 0   |           | |\n",
    "| **EXP03**    | 120        | 60         | 0             | 0.104 |       | |\n",
    "| **EXP04**    | 100        | 54.5       | 0             | 0.125 |  |Frequence btwn burts 1/s     |\n",
    "| **EXP05**    | 80         | 48         | 0             | 0.157 | Fail in camera acquisition | Frequence btwn burts 4/s |\n",
    "| **EXP06**    | 80         | 48         | 0             | 0.157 |    | Frequence btwn burts 4/s |\n",
    "| **EXP07**    | 0          | 120        | 0             | 0   |           |Frequence btwn burts 5/s|\n",
    "| **EXP08**    | 0          | 120        | 9°C           | 0   | optical refraction / mixing | Frequence btwn burts 5/s|\n",
    "| **EXP09**    | 120        | 60         | 0             | 0.104 |       |Frequence btwn burts 5/s|\n",
    "| **EXP10**    | 120        | 60         | 12°C          | 0.104 | optical refraction / mixing |Frequence btwn burts 5/s|\n",
    "| **EXP11**    | 98         | 541        | 12°C          | 0.128 | Spin down |Frequence btwn burts 5/s|\n",
    "| **EXP12**    | 0          | 120        | 19°C          | 0   | Test Stereo x Stratif |Frequence btwn burts 5/s|\n",
    "| **EXP13**    | 0          | 120        | 0             | 0   | Stereo    |Frequence btwn burts 5/s|\n",
    "| **EXP14**    | 0          | 120        | 0             | 0   | Stereo    |Frequence btwn burts 5/s|\n",
    "| **EXP15**    | 0          | 120        | 0             | 0   | Stereo + Colorant |Frequence btwn burts 5/s|\n",
    "| **EXP16**    | 120        | 60         | 20°C          | 0.104 | Stereo + Colorant |Frequence btwn burts 5/s|\n",
    "| **EXP17**    | 100        | 54.5       | 5°C           | 0.125 | Stereo + Colorant / Not enough particles to PIV |Frequence btwn burts 5/s|\n"
   ]
  },
  {
   "cell_type": "markdown",
   "id": "8c903df4-1cf1-4d24-bf58-70a114ec37a0",
   "metadata": {},
   "source": [
    "The sliding averages is done one a 3 second period to decompose the component due to the mean flow $\\overline{u}$ and the turbulent fluctuating part $u'$"
   ]
  },
  {
   "cell_type": "code",
   "execution_count": 12,
   "id": "61ad592a-328a-40d3-8386-63c2e5f0b466",
   "metadata": {},
   "outputs": [],
   "source": [
    "# Import all the library: \n",
    " \n",
    "import numpy as np\n",
    "import matplotlib.pyplot as plt\n",
    "import xarray as xr\n",
    "import scipy.io\n",
    "import numpy as np\n",
    "import matplotlib.pyplot as plt\n",
    "import matplotlib.animation as animation\n",
    "\n",
    "from netCDF4 import Dataset\n",
    "import cmocean"
   ]
  },
  {
   "cell_type": "code",
   "execution_count": 13,
   "id": "7bbd1692-4825-4960-977d-007fc2346c34",
   "metadata": {},
   "outputs": [],
   "source": [
    "# Importation of the function that manage the extraction of all the data from the `load_data.py' \n",
    "\n",
    "import load_data as data      # the py script `load_data.py' must be in the same folder than this notebook\n"
   ]
  },
  {
   "cell_type": "code",
   "execution_count": null,
   "id": "24e3c1e1-4240-4095-8a31-f8454dc6f450",
   "metadata": {},
   "outputs": [],
   "source": []
  },
  {
   "cell_type": "code",
   "execution_count": 14,
   "id": "14d25269-bd36-4d7b-9a42-4ce304cc218f",
   "metadata": {},
   "outputs": [
    {
     "name": "stdout",
     "output_type": "stream",
     "text": [
      "Aucun jeu de données trouvé pour l'expérience 'EXP12' et l'instrument 'STEREO'.\n",
      "Aucun jeu de données trouvé pour l'expérience 'EXP12' et l'instrument 'STEREO'.\n"
     ]
    },
    {
     "ename": "TypeError",
     "evalue": "'NoneType' object is not subscriptable",
     "output_type": "error",
     "traceback": [
      "\u001b[0;31m---------------------------------------------------------------------------\u001b[0m",
      "\u001b[0;31mTypeError\u001b[0m                                 Traceback (most recent call last)",
      "Cell \u001b[0;32mIn[14], line 17\u001b[0m\n\u001b[1;32m     15\u001b[0m Coord_y_stereo \u001b[38;5;241m=\u001b[39m data\u001b[38;5;241m.\u001b[39mget_variable(\u001b[38;5;28mstr\u001b[39m(\u001b[38;5;124m'\u001b[39m\u001b[38;5;124mEXP12\u001b[39m\u001b[38;5;124m'\u001b[39m), \u001b[38;5;124m'\u001b[39m\u001b[38;5;124mSTEREO\u001b[39m\u001b[38;5;124m'\u001b[39m, \u001b[38;5;124m'\u001b[39m\u001b[38;5;124mcoord_y\u001b[39m\u001b[38;5;124m'\u001b[39m)\n\u001b[1;32m     16\u001b[0m Coord_x_stereo \u001b[38;5;241m=\u001b[39m data\u001b[38;5;241m.\u001b[39mget_variable(\u001b[38;5;28mstr\u001b[39m(\u001b[38;5;124m'\u001b[39m\u001b[38;5;124mEXP12\u001b[39m\u001b[38;5;124m'\u001b[39m), \u001b[38;5;124m'\u001b[39m\u001b[38;5;124mSTEREO\u001b[39m\u001b[38;5;124m'\u001b[39m, \u001b[38;5;124m'\u001b[39m\u001b[38;5;124mcoord_x\u001b[39m\u001b[38;5;124m'\u001b[39m)\n\u001b[0;32m---> 17\u001b[0m dy_stereo      \u001b[38;5;241m=\u001b[39m np\u001b[38;5;241m.\u001b[39marray(\u001b[43mCoord_y_stereo\u001b[49m\u001b[43m[\u001b[49m\u001b[38;5;241;43m1\u001b[39;49m\u001b[43m]\u001b[49m\u001b[38;5;241m-\u001b[39mCoord_y_stereo[\u001b[38;5;241m0\u001b[39m])\n\u001b[1;32m     18\u001b[0m dx_stereo      \u001b[38;5;241m=\u001b[39m np\u001b[38;5;241m.\u001b[39marray(Coord_x_stereo[\u001b[38;5;241m1\u001b[39m]\u001b[38;5;241m-\u001b[39mCoord_x_stereo[\u001b[38;5;241m0\u001b[39m])\n\u001b[1;32m     20\u001b[0m Coord_y_jai    \u001b[38;5;241m=\u001b[39m data\u001b[38;5;241m.\u001b[39mget_variable(\u001b[38;5;28mstr\u001b[39m(\u001b[38;5;124m'\u001b[39m\u001b[38;5;124mEXP10\u001b[39m\u001b[38;5;124m'\u001b[39m), \u001b[38;5;124m'\u001b[39m\u001b[38;5;124mJAI\u001b[39m\u001b[38;5;124m'\u001b[39m, \u001b[38;5;124m'\u001b[39m\u001b[38;5;124mcoord_y\u001b[39m\u001b[38;5;124m'\u001b[39m)\n",
      "\u001b[0;31mTypeError\u001b[0m: 'NoneType' object is not subscriptable"
     ]
    }
   ],
   "source": [
    "# Accéder aux variables spécifiques\n",
    "\n",
    "# list of each experiment for the different insrtuments=\n",
    "nexp_adv =['02','03','04','05','06','07','08','09','10','11','13','14','15','16','17']\n",
    "nexp_stereo =['12','13','14','15','16']\n",
    "nexp_labview = ['05','06','07','08','09','10','12','13','14','15','16','17']\n",
    "nexp_jai = ['04','06','07','08','09','10']\n",
    "\n",
    "# Créer un dictionnaire pour stocker les variables de chaque expérience\n",
    "time_stereo = {}\n",
    "time_adv    = {}\n",
    "time_jai    = {}\n",
    "time_T      = {}\n",
    "\n",
    "Coord_y_stereo = data.get_variable(str('EXP12'), 'STEREO', 'coord_y')\n",
    "Coord_x_stereo = data.get_variable(str('EXP12'), 'STEREO', 'coord_x')\n",
    "dy_stereo      = np.array(Coord_y_stereo[1]-Coord_y_stereo[0])\n",
    "dx_stereo      = np.array(Coord_x_stereo[1]-Coord_x_stereo[0])\n",
    "\n",
    "Coord_y_jai    = data.get_variable(str('EXP10'), 'JAI', 'coord_y')\n",
    "dy_jai         = np.array(Coord_y_jai[1]-Coord_y_jai[0])\n",
    "\n",
    "#Data Stereo\n",
    "U_stereo    = {}; W_stereo    = {}; V_stereo    = {}; uprime_stereo = {}; wprime_stereo = {}; vprime_stereo = {};\n",
    "ubar_stereo = {}; wbar_stereo = {}; vbar_stereo = {};\n",
    "uu_stereo   = {};  ww_stereo  = {}; uw_stereo   = {}; vw_stereo     = {}; vv_stereo = {}; \n",
    "\n",
    "#Data JAI\n",
    "U_jai       = {}; W_jai       = {}; uprime_jai  = {}; wprime_jai    = {}; ubar_jai    = {}; wbar_jai    = {};\n",
    "uu_jai  = {};  ww_jai  = {};  uw_jai  = {}\n",
    "\n",
    "#DATA ADV\n",
    "U_adv       = {}; V_adv       = {};\n",
    "\n",
    "\n",
    "\n",
    "\n",
    "# Définir les variables de temps pour chaques expériences\n",
    "for exp in nexp_adv :\n",
    "    time_adv[str('EXP'+exp)]  = data.get_variable(str('EXP'+exp), 'ADV', 'time')\n",
    "    U_adv[str('EXP'+exp)]     = data.get_variable(str('EXP'+exp), 'ADV', 'u') \n",
    "    V_adv[str('EXP'+exp)]     = data.get_variable(str('EXP'+exp), 'ADV', 'v')\n",
    "    \n",
    "for exp in nexp_jai :\n",
    "    time_jai[str('EXP'+exp)]   = data.get_variable(str('EXP'+exp), 'JAI', 'Time')\n",
    "    U_jai[str('EXP'+exp)]      = data.get_variable(str('EXP'+exp), 'JAI', 'U') \n",
    "    W_jai[str('EXP'+exp)]      = data.get_variable(str('EXP'+exp), 'JAI', 'W')\n",
    "    uprime_jai[str('EXP'+exp)] = data.get_variable(str('EXP'+exp), 'JAI', 'Uprime') \n",
    "    wprime_jai[str('EXP'+exp)] = data.get_variable(str('EXP'+exp), 'JAI', 'Wprime')\n",
    "    ubar_jai[str('EXP'+exp)]   = data.get_variable(str('EXP'+exp), 'JAI', 'Ubar') \n",
    "    wbar_jai[str('EXP'+exp)]   = data.get_variable(str('EXP'+exp), 'JAI', 'Wbar')\n",
    "    uu_jai[str('EXP'+exp)]     = data.get_variable(str('EXP'+exp), 'JAI', 'uu') \n",
    "    uw_jai[str('EXP'+exp)]     = data.get_variable(str('EXP'+exp), 'JAI', 'uw')\n",
    "    ww_jai[str('EXP'+exp)]     = data.get_variable(str('EXP'+exp), 'JAI', 'ww')\n",
    "    \n",
    "for exp in nexp_stereo :\n",
    "    time_stereo[str('EXP'+exp)]    = data.get_variable(str('EXP'+exp), 'STEREO', 'Time')\n",
    "    U_stereo[str('EXP'+exp)]      = data.get_variable(str('EXP'+exp), 'STEREO', 'U') \n",
    "    W_stereo[str('EXP'+exp)]      = data.get_variable(str('EXP'+exp), 'STEREO', 'W')\n",
    "    V_stereo[str('EXP'+exp)]      = data.get_variable(str('EXP'+exp), 'STEREO', 'V')\n",
    "    uprime_stereo[str('EXP'+exp)] = data.get_variable(str('EXP'+exp), 'STEREO', 'Uprime') \n",
    "    wprime_stereo[str('EXP'+exp)] = data.get_variable(str('EXP'+exp), 'STEREO', 'Wprime')\n",
    "    vprime_stereo[str('EXP'+exp)] = data.get_variable(str('EXP'+exp), 'STEREO', 'Vprime')\n",
    "    ubar_stereo[str('EXP'+exp)]   = data.get_variable(str('EXP'+exp), 'STEREO', 'Ubar')\n",
    "    vbar_stereo[str('EXP'+exp)]   = data.get_variable(str('EXP'+exp), 'STEREO', 'Vbar')\n",
    "    wbar_stereo[str('EXP'+exp)]   = data.get_variable(str('EXP'+exp), 'STEREO', 'Wbar')\n",
    "    uu_stereo[str('EXP'+exp)]     = data.get_variable(str('EXP'+exp), 'STEREO', 'uu') \n",
    "    uw_stereo[str('EXP'+exp)]     = data.get_variable(str('EXP'+exp), 'STEREO', 'uw')\n",
    "    ww_stereo[str('EXP'+exp)]     = data.get_variable(str('EXP'+exp), 'STEREO', 'ww')\n",
    "    vw_stereo[str('EXP'+exp)]     = data.get_variable(str('EXP'+exp), 'STEREO', 'vw')\n",
    "    vv_stereo[str('EXP'+exp)]     = data.get_variable(str('EXP'+exp), 'STEREO', 'vv')\n"
   ]
  },
  {
   "cell_type": "code",
   "execution_count": 15,
   "id": "aa52ebf1-5cb1-4959-be01-141e060b1b47",
   "metadata": {},
   "outputs": [
    {
     "name": "stdout",
     "output_type": "stream",
     "text": [
      "Aucun jeu de données trouvé pour l'expérience 'EXP13' et l'instrument 'STEREO'.\n"
     ]
    }
   ],
   "source": [
    " "
   ]
  },
  {
   "cell_type": "code",
   "execution_count": null,
   "id": "b1d83a8f-0c81-403e-af15-11bf570bb2c8",
   "metadata": {},
   "outputs": [],
   "source": []
  }
 ],
 "metadata": {
  "kernelspec": {
   "display_name": "Python 3 (ipykernel)",
   "language": "python",
   "name": "python3"
  },
  "language_info": {
   "codemirror_mode": {
    "name": "ipython",
    "version": 3
   },
   "file_extension": ".py",
   "mimetype": "text/x-python",
   "name": "python",
   "nbconvert_exporter": "python",
   "pygments_lexer": "ipython3",
   "version": "3.9.18"
  }
 },
 "nbformat": 4,
 "nbformat_minor": 5
}
