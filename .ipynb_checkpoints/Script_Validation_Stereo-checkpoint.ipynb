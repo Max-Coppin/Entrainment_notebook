{
 "cells": [
  {
   "cell_type": "markdown",
   "id": "a3ea09b0-ee5f-435c-9bf1-473a363a3520",
   "metadata": {},
   "source": [
    "# Title of the Script  "
   ]
  },
  {
   "cell_type": "markdown",
   "id": "0b80a36e-2b11-4c17-8127-bd6e6da778fa",
   "metadata": {},
   "source": [
    "Purpus of the script \n"
   ]
  },
  {
   "cell_type": "markdown",
   "id": "49724e69-efd0-470e-9f86-0424f08c23c8",
   "metadata": {},
   "source": [
    "### OUtline of the script\n",
    "1. \n",
    "2. \n",
    "3. "
   ]
  },
  {
   "cell_type": "code",
   "execution_count": 2,
   "id": "7bbd1692-4825-4960-977d-007fc2346c34",
   "metadata": {},
   "outputs": [],
   "source": [
    "# Importation of the function that manage the extraction of all the data from the `load_data.py' \n",
    "\n",
    "import load_data as data      # the py script `load_data.py' must be in the same folder than this notebook\n"
   ]
  },
  {
   "cell_type": "code",
   "execution_count": 3,
   "id": "14d25269-bd36-4d7b-9a42-4ce304cc218f",
   "metadata": {},
   "outputs": [
    {
     "name": "stdout",
     "output_type": "stream",
     "text": [
      "La variable 'U' n'existe pas dans le jeu de données.\n",
      "Variables disponibles : ['u', 'v', 'z1', 'z2', 'amplitudeB1', 'amplitudeB2', 'amplitudeB3', 'amplitudeB4', 'snrB1', 'snrB2', 'snrB3', 'snrB4', 'corrB1', 'corrB2', 'corrB3', 'corrB4', 'time', 'speed']\n"
     ]
    }
   ],
   "source": [
    "# Accéder aux variables spécifiques\n",
    "u_exp13_adv = data.get_variable('EXP13', 'ADV', 'U')\n",
    "#u_exp13_lab = data.get_variable('EXP13', 'lab', '')\n",
    "\n",
    "u_exp13_adv\n",
    "#print(u_exp13_lab)"
   ]
  },
  {
   "cell_type": "code",
   "execution_count": null,
   "id": "aa52ebf1-5cb1-4959-be01-141e060b1b47",
   "metadata": {},
   "outputs": [],
   "source": []
  }
 ],
 "metadata": {
  "kernelspec": {
   "display_name": "Python 3 (ipykernel)",
   "language": "python",
   "name": "python3"
  },
  "language_info": {
   "codemirror_mode": {
    "name": "ipython",
    "version": 3
   },
   "file_extension": ".py",
   "mimetype": "text/x-python",
   "name": "python",
   "nbconvert_exporter": "python",
   "pygments_lexer": "ipython3",
   "version": "3.9.18"
  }
 },
 "nbformat": 4,
 "nbformat_minor": 5
}
