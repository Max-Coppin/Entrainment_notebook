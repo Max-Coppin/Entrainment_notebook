{
 "cells": [
  {
   "cell_type": "markdown",
   "id": "a3ea09b0-ee5f-435c-9bf1-473a363a3520",
   "metadata": {},
   "source": [
    "# Analysis of the Turbulence\n"
   ]
  },
  {
   "cell_type": "markdown",
   "id": "0b80a36e-2b11-4c17-8127-bd6e6da778fa",
   "metadata": {},
   "source": [
    "The objectives of this script is to describe the turbulent caracteristics of the Spin up experiment.\n",
    "\n"
   ]
  },
  {
   "cell_type": "markdown",
   "id": "49724e69-efd0-470e-9f86-0424f08c23c8",
   "metadata": {},
   "source": [
    "### Outline of the script\n",
    "1. Turbulent correlation \n",
    "2. Friction velocity\n",
    "    - 2.1. From $u'w'$\n",
    "    - 2.2  from the decaying law $U_{\\infty}$ \n",
    "3. Turbulence Spectrum\n",
    "4. Mixing lenght"
   ]
  },
  {
   "cell_type": "markdown",
   "id": "b9ffa56c-d4f7-4a41-aa80-4566048539d5",
   "metadata": {},
   "source": [
    "| Designation  | $T_{ini}$s | $T_{end}$s | $\\Delta T$ °C | $f$ | _Comment_ |_Temporal resolution PIV_ |\n",
    "|--------------|------------|------------|---------------|-----|-----------|-----------|\n",
    "| **EXP01**    | 0          | 120        | 0             | 0   | Fail in camera acquisition ||\n",
    "| **EXP02**    | 0          | 120        | 0             | 0   |           | |\n",
    "| **EXP03**    | 120        | 60         | 0             | 0.104 |       | |\n",
    "| **EXP04**    | 100        | 54.5       | 0             | 0.125 |  |Frequence btwn burts 1/s     |\n",
    "| **EXP05**    | 80         | 48         | 0             | 0.157 | Fail in camera acquisition | Frequence btwn burts 4/s |\n",
    "| **EXP06**    | 80         | 48         | 0             | 0.157 |    | Frequence btwn burts 4/s |\n",
    "| **EXP07**    | 0          | 120        | 0             | 0   |           |Frequence btwn burts 5/s|\n",
    "| **EXP08**    | 0          | 120        | 9°C           | 0   | optical refraction / mixing | Frequence btwn burts 5/s|\n",
    "| **EXP09**    | 120        | 60         | 0             | 0.104 |       |Frequence btwn burts 5/s|\n",
    "| **EXP10**    | 120        | 60         | 12°C          | 0.104 | optical refraction / mixing |Frequence btwn burts 5/s|\n",
    "| **EXP11**    | 98         | 541        | 12°C          | 0.128 | Spin down |Frequence btwn burts 5/s|\n",
    "| **EXP12**    | 0          | 120        | 19°C          | 0   | Test Stereo x Stratif |Frequence btwn burts 5/s|\n",
    "| **EXP13**    | 0          | 120        | 0             | 0   | Stereo    |Frequence btwn burts 5/s|\n",
    "| **EXP14**    | 0          | 120        | 0             | 0   | Stereo    |Frequence btwn burts 5/s|\n",
    "| **EXP15**    | 0          | 120        | 0             | 0   | Stereo + Colorant |Frequence btwn burts 5/s|\n",
    "| **EXP16**    | 120        | 60         | 20°C          | 0.104 | Stereo + Colorant |Frequence btwn burts 5/s|\n",
    "| **EXP17**    | 100        | 54.5       | 5°C           | 0.125 | Stereo + Colorant / Not enough particles to PIV |Frequence btwn burts 5/s|\n"
   ]
  },
  {
   "cell_type": "markdown",
   "id": "8c903df4-1cf1-4d24-bf58-70a114ec37a0",
   "metadata": {},
   "source": [
    "The sliding averages is done one a 3 second period to decompose the component due to the mean flow $\\overline{u}$ and the turbulent fluctuating part $u'$"
   ]
  },
  {
   "cell_type": "code",
   "execution_count": 2,
   "id": "61ad592a-328a-40d3-8386-63c2e5f0b466",
   "metadata": {},
   "outputs": [],
   "source": [
    "# Import all the library: \n",
    " \n",
    "import numpy as np\n",
    "import matplotlib.pyplot as plt\n",
    "import xarray as xr\n",
    "import scipy.io\n",
    "import numpy as np\n",
    "import matplotlib.pyplot as plt\n",
    "import matplotlib.animation as animation\n",
    "\n",
    "from netCDF4 import Dataset\n",
    "import cmocean"
   ]
  },
  {
   "cell_type": "code",
   "execution_count": 3,
   "id": "7bbd1692-4825-4960-977d-007fc2346c34",
   "metadata": {},
   "outputs": [],
   "source": [
    "# Importation of the function that manage the extraction of all the data from the `load_data.py' \n",
    "\n",
    "import load_data as data      # the py script `load_data.py' must be in the same folder than this notebook\n"
   ]
  },
  {
   "cell_type": "code",
   "execution_count": null,
   "id": "24e3c1e1-4240-4095-8a31-f8454dc6f450",
   "metadata": {},
   "outputs": [],
   "source": []
  },
  {
   "cell_type": "code",
   "execution_count": 4,
   "id": "14d25269-bd36-4d7b-9a42-4ce304cc218f",
   "metadata": {},
   "outputs": [],
   "source": [
    "# Accéder aux variables spécifiques\n",
    "\n",
    "# list of each experiment for the different insrtuments=\n",
    "nexp_adv =['02','03','04','05','06','07','08','09','10','11','13','14','15','16','17']\n",
    "nexp_stereo =['12','13','14','15','16']\n",
    "nexp_labview = ['05','06','07','08','09','10','12','13','14','15','16','17']\n",
    "nexp_jai = ['04','06','07','08','09','10']\n",
    "\n",
    "# Créer un dictionnaire pour stocker les variables de chaque expérience\n",
    "time_stereo = {}\n",
    "time_adv    = {}\n",
    "time_jai    = {}\n",
    "time_T      = {}\n",
    "\n",
    "Coord_y_stereo = data.get_variable(str('EXP12'), 'STEREO', 'coord_y')\n",
    "Coord_x_stereo = data.get_variable(str('EXP12'), 'STEREO', 'coord_x')\n",
    "dy_stereo      = np.array(Coord_y_stereo[1]-Coord_y_stereo[0])\n",
    "dx_stereo      = np.array(Coord_x_stereo[1]-Coord_x_stereo[0])\n",
    "\n",
    "Coord_y_jai    = data.get_variable(str('EXP10'), 'JAI', 'coord_y')\n",
    "Coord_x_jai    = data.get_variable(str('EXP10'), 'JAI', 'coord_x')\n",
    "dy_jai         = np.array(Coord_y_jai[1]-Coord_y_jai[0])\n",
    "dx_jai         = np.array(Coord_x_jai[1]-Coord_x_jai[0])\n",
    "\n",
    "#Data Stereo\n",
    "U_stereo    = {}; W_stereo    = {}; V_stereo    = {}; uprime_stereo = {}; wprime_stereo = {}; vprime_stereo = {};\n",
    "ubar_stereo = {}; wbar_stereo = {}; vbar_stereo = {};\n",
    "uu_stereo   = {};  ww_stereo  = {}; uw_stereo   = {}; vw_stereo     = {}; vv_stereo = {}; \n",
    "\n",
    "#Data JAI\n",
    "U_jai       = {}; W_jai       = {}; uprime_jai  = {}; wprime_jai    = {}; ubar_jai    = {}; wbar_jai    = {};\n",
    "uu_jai  = {};  ww_jai  = {};  uw_jai  = {}\n",
    "\n",
    "#DATA ADV\n",
    "U_adv       = {}; V_adv       = {};\n",
    "\n",
    "\n",
    "\n",
    "\n",
    "# Définir les variables de temps pour chaques expériences\n",
    "for exp in nexp_adv :\n",
    "    time_adv[str('EXP'+exp)]  = data.get_variable(str('EXP'+exp), 'ADV', 'time')\n",
    "    U_adv[str('EXP'+exp)]     = data.get_variable(str('EXP'+exp), 'ADV', 'u') \n",
    "    V_adv[str('EXP'+exp)]     = data.get_variable(str('EXP'+exp), 'ADV', 'v')\n",
    "    \n",
    "for exp in nexp_jai :\n",
    "    time_jai[str('EXP'+exp)]   = data.get_variable(str('EXP'+exp), 'JAI', 'Time')\n",
    "    U_jai[str('EXP'+exp)]      = data.get_variable(str('EXP'+exp), 'JAI', 'U') \n",
    "    W_jai[str('EXP'+exp)]      = data.get_variable(str('EXP'+exp), 'JAI', 'W')\n",
    "    uprime_jai[str('EXP'+exp)] = data.get_variable(str('EXP'+exp), 'JAI', 'Uprime') \n",
    "    wprime_jai[str('EXP'+exp)] = data.get_variable(str('EXP'+exp), 'JAI', 'Wprime')\n",
    "    ubar_jai[str('EXP'+exp)]   = data.get_variable(str('EXP'+exp), 'JAI', 'Ubar') \n",
    "    wbar_jai[str('EXP'+exp)]   = data.get_variable(str('EXP'+exp), 'JAI', 'Wbar')\n",
    "    uu_jai[str('EXP'+exp)]     = data.get_variable(str('EXP'+exp), 'JAI', 'uu') \n",
    "    uw_jai[str('EXP'+exp)]     = data.get_variable(str('EXP'+exp), 'JAI', 'uw')\n",
    "    ww_jai[str('EXP'+exp)]     = data.get_variable(str('EXP'+exp), 'JAI', 'ww')\n",
    "    \n",
    "for exp in nexp_stereo :\n",
    "    time_stereo[str('EXP'+exp)]    = data.get_variable(str('EXP'+exp), 'STEREO', 'Time')\n",
    "    U_stereo[str('EXP'+exp)]      = data.get_variable(str('EXP'+exp), 'STEREO', 'U') \n",
    "    W_stereo[str('EXP'+exp)]      = data.get_variable(str('EXP'+exp), 'STEREO', 'W')\n",
    "    V_stereo[str('EXP'+exp)]      = data.get_variable(str('EXP'+exp), 'STEREO', 'V')\n",
    "    uprime_stereo[str('EXP'+exp)] = data.get_variable(str('EXP'+exp), 'STEREO', 'Uprime') \n",
    "    wprime_stereo[str('EXP'+exp)] = data.get_variable(str('EXP'+exp), 'STEREO', 'Wprime')\n",
    "    vprime_stereo[str('EXP'+exp)] = data.get_variable(str('EXP'+exp), 'STEREO', 'Vprime')\n",
    "    ubar_stereo[str('EXP'+exp)]   = data.get_variable(str('EXP'+exp), 'STEREO', 'Ubar')\n",
    "    vbar_stereo[str('EXP'+exp)]   = data.get_variable(str('EXP'+exp), 'STEREO', 'Vbar')\n",
    "    wbar_stereo[str('EXP'+exp)]   = data.get_variable(str('EXP'+exp), 'STEREO', 'Wbar')\n",
    "    uu_stereo[str('EXP'+exp)]     = data.get_variable(str('EXP'+exp), 'STEREO', 'uu') \n",
    "    uw_stereo[str('EXP'+exp)]     = data.get_variable(str('EXP'+exp), 'STEREO', 'uw')\n",
    "    ww_stereo[str('EXP'+exp)]     = data.get_variable(str('EXP'+exp), 'STEREO', 'ww')\n",
    "    vw_stereo[str('EXP'+exp)]     = data.get_variable(str('EXP'+exp), 'STEREO', 'vw')\n",
    "    vv_stereo[str('EXP'+exp)]     = data.get_variable(str('EXP'+exp), 'STEREO', 'vv')\n"
   ]
  },
  {
   "cell_type": "code",
   "execution_count": null,
   "id": "aa52ebf1-5cb1-4959-be01-141e060b1b47",
   "metadata": {},
   "outputs": [],
   "source": [
    " "
   ]
  },
  {
   "cell_type": "markdown",
   "id": "9b9f8fb1-767a-4667-a5e8-99dd9de35e20",
   "metadata": {},
   "source": [
    "# Turbulent Correlation"
   ]
  },
  {
   "cell_type": "code",
   "execution_count": null,
   "id": "a4edcb8a-41a8-4c45-8406-b39627492156",
   "metadata": {},
   "outputs": [],
   "source": []
  },
  {
   "cell_type": "code",
   "execution_count": null,
   "id": "2c830457-cfd4-467a-8cc8-b126f3ca50cc",
   "metadata": {},
   "outputs": [],
   "source": []
  },
  {
   "cell_type": "code",
   "execution_count": null,
   "id": "95d994b3-8153-4109-bc42-ca010915ecd2",
   "metadata": {},
   "outputs": [],
   "source": []
  },
  {
   "cell_type": "code",
   "execution_count": null,
   "id": "416c7770-1d5e-4cff-ab5f-55916a1c60ad",
   "metadata": {},
   "outputs": [],
   "source": []
  },
  {
   "cell_type": "markdown",
   "id": "839ca8ba-ba46-47ec-b932-991bd22d5a3f",
   "metadata": {},
   "source": [
    "# Friction Velocity\n"
   ]
  },
  {
   "cell_type": "markdown",
   "id": "c5b5f033-90d8-434f-8512-f4c1439a9cd0",
   "metadata": {},
   "source": [
    "## Friction Velocity: $u_*$ from $u'w'$"
   ]
  },
  {
   "cell_type": "code",
   "execution_count": null,
   "id": "b022c723-e33d-4cc3-b893-5aed6f30f1fb",
   "metadata": {},
   "outputs": [],
   "source": []
  },
  {
   "cell_type": "code",
   "execution_count": null,
   "id": "959c1344-aba7-45f0-88e8-68609bf37cf1",
   "metadata": {},
   "outputs": [],
   "source": []
  },
  {
   "cell_type": "code",
   "execution_count": null,
   "id": "35294377-5f56-4d84-ab1a-384e62287aad",
   "metadata": {},
   "outputs": [],
   "source": []
  },
  {
   "cell_type": "code",
   "execution_count": null,
   "id": "9862f420-ce97-4006-afd9-f4621d875f83",
   "metadata": {},
   "outputs": [],
   "source": []
  },
  {
   "cell_type": "markdown",
   "id": "53c8af0a-becb-4aef-945d-9d888376e400",
   "metadata": {},
   "source": [
    "## Friction velocity: From the decaying law $U_{\\infty} = U(0) \\exp\\left(-\\sqrt{\\frac{\\nu f}{2}}\\frac{t}{H}\\right)$ "
   ]
  },
  {
   "cell_type": "markdown",
   "id": "62c31c14-43ac-4abd-8067-d1f81a83d01c",
   "metadata": {},
   "source": [
    "Il est a noter pour les cas d'observation avec la Sereo sans rotation initial que la couche de mélange exede assez vite le champs d'observation (14cm) et donc le $U_{\\infty}$ calculé par cette méthode est tres probablement sous éstimé. Lors que cela est possible je vais utiliser les donnée jai (dans la plage de valeur valable)"
   ]
  },
  {
   "cell_type": "code",
   "execution_count": 6,
   "id": "2e9f95f7-8834-4e7e-8026-ab5326d96620",
   "metadata": {},
   "outputs": [],
   "source": [
    "# definition of the Infinite velocity U_infty\n",
    "def infinit_vel(num_exp,cam ):\n",
    "    '''This function is aim to compute the displacement thickness: \n",
    "    Variable: \n",
    "    name_exp must be a string in the format 'EXPXX'  \n",
    "    cam must by either jai or stereo'''\n",
    "\n",
    "    # Setting parameter : \n",
    "    if cam == 'jai' : \n",
    "        time =  time_jai[num_exp]\n",
    "        u    = -ubar_jai[num_exp]\n",
    "        dy   =  dy_jai\n",
    "        y    =  Coord_y_jai\n",
    "        ny   =  Coord_y_jai.size\n",
    "    elif cam=='stereo'  :\n",
    "        time =  time_stereo[num_exp]\n",
    "        u    = -ubar_stereo[num_exp]\n",
    "        dy   =  dy_stereo\n",
    "        y    =  Coord_y_stereo\n",
    "        ny   =  Coord_y_stereo.size\n",
    "    else : \n",
    "        return \"The variable (cam) must by either 'jai' or 'stereo'\"\n",
    "\n",
    "    \n",
    "    # Declaration of the outpu variables\n",
    "    Uout   = np.zeros(time.size)\n",
    "    \n",
    "    \n",
    "    #main programm\n",
    "    for it in range (time.size):\n",
    "        Umax = np.nanmax(u[:,it])\n",
    "        idMax = (np.int64(np.where(u[:,it] == Umax)))[0][0]    # I look for the  maximum of velocity (in case of a buldge in presence of rotation)\n",
    "        if cam == 'jai' : \n",
    "            Uinfty = np.nanmean(u[-40:,it],axis = 0)      # mean over the last 4cm por the JAI \n",
    "            Uout[it] = Uinfty\n",
    "        elif cam=='stereo'  :\n",
    "            Uinfty = np.nanmean(u[-10:,it],axis = 0)     # mean over the last 1cm por the Stereo\n",
    "            Uout[it] = Uinfty    \n",
    "        else : \n",
    "            print(\"'The variable (cam) must by either 'jai' or 'stereo''\")\n",
    "        #return   \"The variable (cam) must by either 'jai' or 'stereo'\"\n",
    "\n",
    "\n",
    "    return Uout\n",
    "\n"
   ]
  },
  {
   "cell_type": "code",
   "execution_count": 7,
   "id": "844e91a0-e6d1-46ed-81f0-34384e09623d",
   "metadata": {},
   "outputs": [],
   "source": [
    "#Data JAI\n",
    "Uinfty_jai    = {}\n",
    "#Data Stereo\n",
    "Uinfty_stereo = {}\n",
    "\n",
    "cam = 'jai'   \n",
    "for exp in nexp_jai :\n",
    "    exp_num=str('EXP'+exp)\n",
    "    Uinfty_jai[str('EXP'+exp)]  =infinit_vel(exp_num,cam)\n",
    "    \n",
    "cam = 'stereo'   \n",
    "for exp in nexp_stereo :\n",
    "    exp_num=str('EXP'+exp)\n",
    "    Uinfty_stereo[str('EXP'+exp)]  = infinit_vel(exp_num,cam)"
   ]
  },
  {
   "cell_type": "code",
   "execution_count": null,
   "id": "89653bcf-7a7c-4243-a196-75bf68233281",
   "metadata": {},
   "outputs": [],
   "source": []
  },
  {
   "cell_type": "code",
   "execution_count": null,
   "id": "79f89df3-f031-40c1-9890-4090df58c282",
   "metadata": {},
   "outputs": [],
   "source": []
  }
 ],
 "metadata": {
  "kernelspec": {
   "display_name": "Python 3 (ipykernel)",
   "language": "python",
   "name": "python3"
  },
  "language_info": {
   "codemirror_mode": {
    "name": "ipython",
    "version": 3
   },
   "file_extension": ".py",
   "mimetype": "text/x-python",
   "name": "python",
   "nbconvert_exporter": "python",
   "pygments_lexer": "ipython3",
   "version": "3.9.18"
  }
 },
 "nbformat": 4,
 "nbformat_minor": 5
}
